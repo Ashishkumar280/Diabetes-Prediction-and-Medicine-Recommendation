{
  "cells": [
    {
      "cell_type": "markdown",
      "metadata": {
        "id": "9sptbNzaUk1_"
      },
      "source": [
        "***Diabetes Prediction and Medicine Recommendation***\n",
        "---\n",
        "Yes, in the dataset you're working with, **Pregnancies** refers to the number of times a female patient has been pregnant. This feature is particularly relevant in women for determining certain risk factors for diabetes, especially **gestational diabetes** that can occur during pregnancy. milligrams per deciliter\n",
        "\n",
        "### Normal Ranges for Diabetic and Non-Diabetic Individuals\n",
        "\n",
        "For other features in the dataset, the normal range for a **non-diabetic** and **diabetic** person varies based on the criteria used to define diabetes. Here are the commonly accepted normal ranges for these features:\n",
        "\n",
        "1. **Glucose (Blood Sugar Level)**:\n",
        "   - **Non-Diabetic**: Fasting blood glucose < 100 mg/dL is considered normal.\n",
        "   - **Prediabetic**: Fasting blood glucose between 100–125 mg/dL.\n",
        "   - **Diabetic**: Fasting blood glucose ≥ 126 mg/dL.\n",
        "\n",
        "2. **Blood Pressure (mmHg)**:\n",
        "   - **Normal Blood Pressure**: Below 120/80 mmHg.\n",
        "   - **Hypertension** (often linked with diabetes):\n",
        "     - Stage 1: 130-139/80-89 mmHg.\n",
        "     - Stage 2: ≥ 140/90 mmHg.\n",
        "   - **Diabetic patients** often have slightly elevated blood pressure, as hypertension is a risk factor.\n",
        "\n",
        "3. **Skin Thickness (Triceps skinfold thickness in mm)**:\n",
        "   - Normal thickness varies, but a skinfold measurement between **10-50 mm** is considered common.\n",
        "   - **Higher values** can indicate increased fat stores, which may correlate with insulin resistance and diabetes.\n",
        "\n",
        "4. **Insulin (2-Hour Serum Insulin in µU/mL)**:\n",
        "   - **Non-Diabetic**: 16–166 µU/mL (this can vary depending on fasting vs. post-meal values).\n",
        "   - **Diabetic**: Insulin levels might be lower than normal or elevated in Type 2 Diabetes depending on insulin resistance or deficiency.\n",
        "\n",
        "5. **BMI (Body Mass Index)**:\n",
        "   - **Underweight**: BMI < 18.5.\n",
        "   - **Normal**: BMI between 18.5–24.9.\n",
        "   - **Overweight**: BMI between 25–29.9.\n",
        "   - **Obese**: BMI ≥ 30. Obesity is strongly linked with Type 2 diabetes.\n",
        "\n",
        "6. **Diabetes Pedigree Function**:\n",
        "   - This is a calculated measure indicating the likelihood of diabetes based on family history and genetics.\n",
        "   - **No clear normal range**, but higher values (> 0.5) indicate a stronger genetic predisposition to diabetes.\n",
        "\n",
        "7. **Age**:\n",
        "   - While there's no \"normal\" age for diabetes, **Type 2 diabetes** is more common in people over 45 years old, although it can occur in younger individuals, especially with risk factors like obesity or family history.\n",
        "   - **Type 1 diabetes** is more commonly diagnosed in younger individuals (children, teens, young adults).\n",
        "\n",
        "In general, for diagnosing **diabetes**, fasting glucose levels, HbA1c, and glucose tolerance tests are the most critical indicators, and the values above provide context for determining the likelihood of diabetes based on the features in your dataset.\n",
        "\n",
        "\n"
      ]
    },
    {
      "cell_type": "markdown",
      "metadata": {
        "id": "FhMYwvZnUjXh"
      },
      "source": [
        "Importing the Dependencies"
      ]
    },
    {
      "cell_type": "code",
      "execution_count": null,
      "metadata": {
        "id": "1qGwfcnnUgBm"
      },
      "outputs": [],
      "source": [
        "import numpy as np\n",
        "import pandas as pd\n",
        "from sklearn.preprocessing import StandardScaler\n",
        "from sklearn.model_selection import train_test_split\n",
        "from sklearn import svm\n",
        "from sklearn.metrics import accuracy_score\n",
        "from sklearn.ensemble import RandomForestClassifier\n",
        "from sklearn.linear_model import LogisticRegression"
      ]
    },
    {
      "cell_type": "markdown",
      "metadata": {
        "id": "Abi-0PRwU6XU"
      },
      "source": [
        "Data Collection and Preprocessing"
      ]
    },
    {
      "cell_type": "code",
      "execution_count": null,
      "metadata": {
        "colab": {
          "base_uri": "https://localhost:8080/",
          "height": 206
        },
        "id": "l5NXotNbU5_p",
        "outputId": "1d3a2909-f576-46f1-b4de-c5a8252aca7a"
      },
      "outputs": [
        {
          "data": {
            "text/html": [
              "<div>\n",
              "<style scoped>\n",
              "    .dataframe tbody tr th:only-of-type {\n",
              "        vertical-align: middle;\n",
              "    }\n",
              "\n",
              "    .dataframe tbody tr th {\n",
              "        vertical-align: top;\n",
              "    }\n",
              "\n",
              "    .dataframe thead th {\n",
              "        text-align: right;\n",
              "    }\n",
              "</style>\n",
              "<table border=\"1\" class=\"dataframe\">\n",
              "  <thead>\n",
              "    <tr style=\"text-align: right;\">\n",
              "      <th></th>\n",
              "      <th>Pregnancies</th>\n",
              "      <th>Glucose</th>\n",
              "      <th>BloodPressure</th>\n",
              "      <th>SkinThickness</th>\n",
              "      <th>Insulin</th>\n",
              "      <th>BMI</th>\n",
              "      <th>DiabetesPedigreeFunction</th>\n",
              "      <th>Age</th>\n",
              "      <th>Outcome</th>\n",
              "    </tr>\n",
              "  </thead>\n",
              "  <tbody>\n",
              "    <tr>\n",
              "      <th>0</th>\n",
              "      <td>6</td>\n",
              "      <td>148</td>\n",
              "      <td>72</td>\n",
              "      <td>35</td>\n",
              "      <td>0</td>\n",
              "      <td>33.6</td>\n",
              "      <td>0.627</td>\n",
              "      <td>50</td>\n",
              "      <td>1</td>\n",
              "    </tr>\n",
              "    <tr>\n",
              "      <th>1</th>\n",
              "      <td>1</td>\n",
              "      <td>85</td>\n",
              "      <td>66</td>\n",
              "      <td>29</td>\n",
              "      <td>0</td>\n",
              "      <td>26.6</td>\n",
              "      <td>0.351</td>\n",
              "      <td>31</td>\n",
              "      <td>0</td>\n",
              "    </tr>\n",
              "    <tr>\n",
              "      <th>2</th>\n",
              "      <td>8</td>\n",
              "      <td>183</td>\n",
              "      <td>64</td>\n",
              "      <td>0</td>\n",
              "      <td>0</td>\n",
              "      <td>23.3</td>\n",
              "      <td>0.672</td>\n",
              "      <td>32</td>\n",
              "      <td>1</td>\n",
              "    </tr>\n",
              "    <tr>\n",
              "      <th>3</th>\n",
              "      <td>1</td>\n",
              "      <td>89</td>\n",
              "      <td>66</td>\n",
              "      <td>23</td>\n",
              "      <td>94</td>\n",
              "      <td>28.1</td>\n",
              "      <td>0.167</td>\n",
              "      <td>21</td>\n",
              "      <td>0</td>\n",
              "    </tr>\n",
              "    <tr>\n",
              "      <th>4</th>\n",
              "      <td>0</td>\n",
              "      <td>137</td>\n",
              "      <td>40</td>\n",
              "      <td>35</td>\n",
              "      <td>168</td>\n",
              "      <td>43.1</td>\n",
              "      <td>2.288</td>\n",
              "      <td>33</td>\n",
              "      <td>1</td>\n",
              "    </tr>\n",
              "  </tbody>\n",
              "</table>\n",
              "</div>"
            ],
            "text/plain": [
              "   Pregnancies  Glucose  BloodPressure  SkinThickness  Insulin   BMI  \\\n",
              "0            6      148             72             35        0  33.6   \n",
              "1            1       85             66             29        0  26.6   \n",
              "2            8      183             64              0        0  23.3   \n",
              "3            1       89             66             23       94  28.1   \n",
              "4            0      137             40             35      168  43.1   \n",
              "\n",
              "   DiabetesPedigreeFunction  Age  Outcome  \n",
              "0                     0.627   50        1  \n",
              "1                     0.351   31        0  \n",
              "2                     0.672   32        1  \n",
              "3                     0.167   21        0  \n",
              "4                     2.288   33        1  "
            ]
          },
          "execution_count": 2,
          "metadata": {},
          "output_type": "execute_result"
        }
      ],
      "source": [
        "# loading the diabetes dataset to a pandas DataFrame\n",
        "diabetes_dataset = pd.read_csv('diabetes.csv')\n",
        "\n",
        "# printing the first 5 rows of the dataset\n",
        "diabetes_dataset.head()"
      ]
    },
    {
      "cell_type": "markdown",
      "metadata": {
        "id": "VpAg58OaVFjf"
      },
      "source": [
        "Training and Evaluating SVM Model"
      ]
    },
    {
      "cell_type": "code",
      "execution_count": null,
      "metadata": {
        "colab": {
          "base_uri": "https://localhost:8080/"
        },
        "id": "5d-hI2bm0I2E",
        "outputId": "274f4c5d-2d5e-42f6-e46e-c8d61f4eb2c1"
      },
      "outputs": [
        {
          "data": {
            "text/plain": [
              "(768, 9)"
            ]
          },
          "execution_count": 3,
          "metadata": {},
          "output_type": "execute_result"
        }
      ],
      "source": [
        "# number of rows and Columns in this dataset\n",
        "diabetes_dataset.shape"
      ]
    },
    {
      "cell_type": "code",
      "execution_count": null,
      "metadata": {
        "colab": {
          "base_uri": "https://localhost:8080/",
          "height": 300
        },
        "id": "bEBUq_KQ0NTe",
        "outputId": "2623c612-bffa-415d-8381-73775a9dfa1c"
      },
      "outputs": [
        {
          "data": {
            "text/html": [
              "<div>\n",
              "<style scoped>\n",
              "    .dataframe tbody tr th:only-of-type {\n",
              "        vertical-align: middle;\n",
              "    }\n",
              "\n",
              "    .dataframe tbody tr th {\n",
              "        vertical-align: top;\n",
              "    }\n",
              "\n",
              "    .dataframe thead th {\n",
              "        text-align: right;\n",
              "    }\n",
              "</style>\n",
              "<table border=\"1\" class=\"dataframe\">\n",
              "  <thead>\n",
              "    <tr style=\"text-align: right;\">\n",
              "      <th></th>\n",
              "      <th>Pregnancies</th>\n",
              "      <th>Glucose</th>\n",
              "      <th>BloodPressure</th>\n",
              "      <th>SkinThickness</th>\n",
              "      <th>Insulin</th>\n",
              "      <th>BMI</th>\n",
              "      <th>DiabetesPedigreeFunction</th>\n",
              "      <th>Age</th>\n",
              "      <th>Outcome</th>\n",
              "    </tr>\n",
              "  </thead>\n",
              "  <tbody>\n",
              "    <tr>\n",
              "      <th>count</th>\n",
              "      <td>768.000000</td>\n",
              "      <td>768.000000</td>\n",
              "      <td>768.000000</td>\n",
              "      <td>768.000000</td>\n",
              "      <td>768.000000</td>\n",
              "      <td>768.000000</td>\n",
              "      <td>768.000000</td>\n",
              "      <td>768.000000</td>\n",
              "      <td>768.000000</td>\n",
              "    </tr>\n",
              "    <tr>\n",
              "      <th>mean</th>\n",
              "      <td>3.845052</td>\n",
              "      <td>120.894531</td>\n",
              "      <td>69.105469</td>\n",
              "      <td>20.536458</td>\n",
              "      <td>79.799479</td>\n",
              "      <td>31.992578</td>\n",
              "      <td>0.471876</td>\n",
              "      <td>33.240885</td>\n",
              "      <td>0.348958</td>\n",
              "    </tr>\n",
              "    <tr>\n",
              "      <th>std</th>\n",
              "      <td>3.369578</td>\n",
              "      <td>31.972618</td>\n",
              "      <td>19.355807</td>\n",
              "      <td>15.952218</td>\n",
              "      <td>115.244002</td>\n",
              "      <td>7.884160</td>\n",
              "      <td>0.331329</td>\n",
              "      <td>11.760232</td>\n",
              "      <td>0.476951</td>\n",
              "    </tr>\n",
              "    <tr>\n",
              "      <th>min</th>\n",
              "      <td>0.000000</td>\n",
              "      <td>0.000000</td>\n",
              "      <td>0.000000</td>\n",
              "      <td>0.000000</td>\n",
              "      <td>0.000000</td>\n",
              "      <td>0.000000</td>\n",
              "      <td>0.078000</td>\n",
              "      <td>21.000000</td>\n",
              "      <td>0.000000</td>\n",
              "    </tr>\n",
              "    <tr>\n",
              "      <th>25%</th>\n",
              "      <td>1.000000</td>\n",
              "      <td>99.000000</td>\n",
              "      <td>62.000000</td>\n",
              "      <td>0.000000</td>\n",
              "      <td>0.000000</td>\n",
              "      <td>27.300000</td>\n",
              "      <td>0.243750</td>\n",
              "      <td>24.000000</td>\n",
              "      <td>0.000000</td>\n",
              "    </tr>\n",
              "    <tr>\n",
              "      <th>50%</th>\n",
              "      <td>3.000000</td>\n",
              "      <td>117.000000</td>\n",
              "      <td>72.000000</td>\n",
              "      <td>23.000000</td>\n",
              "      <td>30.500000</td>\n",
              "      <td>32.000000</td>\n",
              "      <td>0.372500</td>\n",
              "      <td>29.000000</td>\n",
              "      <td>0.000000</td>\n",
              "    </tr>\n",
              "    <tr>\n",
              "      <th>75%</th>\n",
              "      <td>6.000000</td>\n",
              "      <td>140.250000</td>\n",
              "      <td>80.000000</td>\n",
              "      <td>32.000000</td>\n",
              "      <td>127.250000</td>\n",
              "      <td>36.600000</td>\n",
              "      <td>0.626250</td>\n",
              "      <td>41.000000</td>\n",
              "      <td>1.000000</td>\n",
              "    </tr>\n",
              "    <tr>\n",
              "      <th>max</th>\n",
              "      <td>17.000000</td>\n",
              "      <td>199.000000</td>\n",
              "      <td>122.000000</td>\n",
              "      <td>99.000000</td>\n",
              "      <td>846.000000</td>\n",
              "      <td>67.100000</td>\n",
              "      <td>2.420000</td>\n",
              "      <td>81.000000</td>\n",
              "      <td>1.000000</td>\n",
              "    </tr>\n",
              "  </tbody>\n",
              "</table>\n",
              "</div>"
            ],
            "text/plain": [
              "       Pregnancies     Glucose  BloodPressure  SkinThickness     Insulin  \\\n",
              "count   768.000000  768.000000     768.000000     768.000000  768.000000   \n",
              "mean      3.845052  120.894531      69.105469      20.536458   79.799479   \n",
              "std       3.369578   31.972618      19.355807      15.952218  115.244002   \n",
              "min       0.000000    0.000000       0.000000       0.000000    0.000000   \n",
              "25%       1.000000   99.000000      62.000000       0.000000    0.000000   \n",
              "50%       3.000000  117.000000      72.000000      23.000000   30.500000   \n",
              "75%       6.000000  140.250000      80.000000      32.000000  127.250000   \n",
              "max      17.000000  199.000000     122.000000      99.000000  846.000000   \n",
              "\n",
              "              BMI  DiabetesPedigreeFunction         Age     Outcome  \n",
              "count  768.000000                768.000000  768.000000  768.000000  \n",
              "mean    31.992578                  0.471876   33.240885    0.348958  \n",
              "std      7.884160                  0.331329   11.760232    0.476951  \n",
              "min      0.000000                  0.078000   21.000000    0.000000  \n",
              "25%     27.300000                  0.243750   24.000000    0.000000  \n",
              "50%     32.000000                  0.372500   29.000000    0.000000  \n",
              "75%     36.600000                  0.626250   41.000000    1.000000  \n",
              "max     67.100000                  2.420000   81.000000    1.000000  "
            ]
          },
          "execution_count": 4,
          "metadata": {},
          "output_type": "execute_result"
        }
      ],
      "source": [
        "# getting the statistical measures of the data\n",
        "diabetes_dataset.describe()"
      ]
    },
    {
      "cell_type": "code",
      "execution_count": null,
      "metadata": {
        "colab": {
          "base_uri": "https://localhost:8080/",
          "height": 178
        },
        "id": "mxGcjE4v0OAz",
        "outputId": "da9fd7fc-b694-4545-8d37-2b63361f157d"
      },
      "outputs": [
        {
          "data": {
            "text/plain": [
              "0    500\n",
              "1    268\n",
              "Name: Outcome, dtype: int64"
            ]
          },
          "execution_count": 5,
          "metadata": {},
          "output_type": "execute_result"
        }
      ],
      "source": [
        "# Checking the distribution of outcomes\n",
        "diabetes_dataset['Outcome'].value_counts()"
      ]
    },
    {
      "cell_type": "code",
      "execution_count": null,
      "metadata": {
        "colab": {
          "base_uri": "https://localhost:8080/",
          "height": 521
        },
        "id": "R5j7GmErAGjv",
        "outputId": "2c64979a-b199-46f5-9540-22084b70c314"
      },
      "outputs": [
        {
          "data": {
            "image/png": "[encoded data removed]",
            "text/plain": [
              "<Figure size 800x600 with 1 Axes>"
            ]
          },
          "metadata": {},
          "output_type": "display_data"
        }
      ],
      "source": [
        "import matplotlib.pyplot as plt\n",
        "\n",
        "# Data\n",
        "labels = ['Non-Diabetic', 'Diabetic']\n",
        "sizes = [500, 268]\n",
        "colors = ['#66b3ff', '#ff9999']  # Colors for the pie chart\n",
        "explode = (0.1, 0)  # explode the 1st slice (Non-Diabetic)\n",
        "\n",
        "# Function to format the pie chart labels\n",
        "def func(pct, allvalues):\n",
        "    absolute = int(pct / 100. * sum(allvalues))  # Calculate absolute count\n",
        "    return f'{absolute} ({pct:.1f}%)'  # Return formatted string\n",
        "\n",
        "# Plotting the pie chart\n",
        "plt.figure(figsize=(8, 6))\n",
        "plt.pie(sizes, labels=labels, autopct=lambda pct: func(pct, sizes), startangle=140, colors=colors, explode=explode)\n",
        "plt.title('Distribution of Diabetes Outcomes')\n",
        "plt.axis('equal')  # Equal aspect ratio ensures that pie chart is circular.\n",
        "\n",
        "# Adding total values beside the pie chart\n",
        "total_values = sum(sizes)\n",
        "plt.text(1.2, 0, f'Total Non-Diabetic: {sizes[0]}\\nTotal Diabetic: {sizes[1]}\\nTotal Count: {total_values}',\n",
        "         fontsize=12, bbox=dict(facecolor='white', alpha=0.5))\n",
        "\n",
        "plt.show()"
      ]
    },
    {
      "cell_type": "code",
      "execution_count": null,
      "metadata": {
        "colab": {
          "base_uri": "https://localhost:8080/",
          "height": 143
        },
        "id": "xrUeNKQz0Q2f",
        "outputId": "61284c74-d6c3-4561-af45-ea9762590da7"
      },
      "outputs": [
        {
          "data": {
            "text/html": [
              "<div>\n",
              "<style scoped>\n",
              "    .dataframe tbody tr th:only-of-type {\n",
              "        vertical-align: middle;\n",
              "    }\n",
              "\n",
              "    .dataframe tbody tr th {\n",
              "        vertical-align: top;\n",
              "    }\n",
              "\n",
              "    .dataframe thead th {\n",
              "        text-align: right;\n",
              "    }\n",
              "</style>\n",
              "<table border=\"1\" class=\"dataframe\">\n",
              "  <thead>\n",
              "    <tr style=\"text-align: right;\">\n",
              "      <th></th>\n",
              "      <th>Pregnancies</th>\n",
              "      <th>Glucose</th>\n",
              "      <th>BloodPressure</th>\n",
              "      <th>SkinThickness</th>\n",
              "      <th>Insulin</th>\n",
              "      <th>BMI</th>\n",
              "      <th>DiabetesPedigreeFunction</th>\n",
              "      <th>Age</th>\n",
              "    </tr>\n",
              "    <tr>\n",
              "      <th>Outcome</th>\n",
              "      <th></th>\n",
              "      <th></th>\n",
              "      <th></th>\n",
              "      <th></th>\n",
              "      <th></th>\n",
              "      <th></th>\n",
              "      <th></th>\n",
              "      <th></th>\n",
              "    </tr>\n",
              "  </thead>\n",
              "  <tbody>\n",
              "    <tr>\n",
              "      <th>0</th>\n",
              "      <td>3.298000</td>\n",
              "      <td>109.980000</td>\n",
              "      <td>68.184000</td>\n",
              "      <td>19.664000</td>\n",
              "      <td>68.792000</td>\n",
              "      <td>30.304200</td>\n",
              "      <td>0.429734</td>\n",
              "      <td>31.190000</td>\n",
              "    </tr>\n",
              "    <tr>\n",
              "      <th>1</th>\n",
              "      <td>4.865672</td>\n",
              "      <td>141.257463</td>\n",
              "      <td>70.824627</td>\n",
              "      <td>22.164179</td>\n",
              "      <td>100.335821</td>\n",
              "      <td>35.142537</td>\n",
              "      <td>0.550500</td>\n",
              "      <td>37.067164</td>\n",
              "    </tr>\n",
              "  </tbody>\n",
              "</table>\n",
              "</div>"
            ],
            "text/plain": [
              "         Pregnancies     Glucose  BloodPressure  SkinThickness     Insulin  \\\n",
              "Outcome                                                                      \n",
              "0           3.298000  109.980000      68.184000      19.664000   68.792000   \n",
              "1           4.865672  141.257463      70.824627      22.164179  100.335821   \n",
              "\n",
              "               BMI  DiabetesPedigreeFunction        Age  \n",
              "Outcome                                                  \n",
              "0        30.304200                  0.429734  31.190000  \n",
              "1        35.142537                  0.550500  37.067164  "
            ]
          },
          "execution_count": 7,
          "metadata": {},
          "output_type": "execute_result"
        }
      ],
      "source": [
        "# 0 --> Non-Diabetic, 1 --> Diabetic\n",
        "diabetes_dataset.groupby('Outcome').mean()"
      ]
    },
    {
      "cell_type": "code",
      "execution_count": null,
      "metadata": {
        "id": "qaYCDc7b1JHl"
      },
      "outputs": [],
      "source": [
        "# Separating the data and labels\n",
        "X = diabetes_dataset.drop(columns='Outcome', axis=1)\n",
        "Y = diabetes_dataset['Outcome']"
      ]
    },
    {
      "cell_type": "code",
      "execution_count": null,
      "metadata": {
        "id": "pr4H52iz1Mu7"
      },
      "outputs": [],
      "source": [
        "# Standardizing the data\n",
        "scaler = StandardScaler()\n",
        "scaler.fit(X)\n",
        "standardized_data = scaler.transform(X)"
      ]
    },
    {
      "cell_type": "code",
      "execution_count": null,
      "metadata": {
        "colab": {
          "base_uri": "https://localhost:8080/"
        },
        "id": "Ty76Ledy1Oqc",
        "outputId": "82ea76fa-2669-4d31-b824-ae6c82f12ee7"
      },
      "outputs": [
        {
          "name": "stdout",
          "output_type": "stream",
          "text": [
            "[[ 0.63994726  0.84832379  0.14964075 ...  0.20401277  0.46849198\n",
            "   1.4259954 ]\n",
            " [-0.84488505 -1.12339636 -0.16054575 ... -0.68442195 -0.36506078\n",
            "  -0.19067191]\n",
            " [ 1.23388019  1.94372388 -0.26394125 ... -1.10325546  0.60439732\n",
            "  -0.10558415]\n",
            " ...\n",
            " [ 0.3429808   0.00330087  0.14964075 ... -0.73518964 -0.68519336\n",
            "  -0.27575966]\n",
            " [-0.84488505  0.1597866  -0.47073225 ... -0.24020459 -0.37110101\n",
            "   1.17073215]\n",
            " [-0.84488505 -0.8730192   0.04624525 ... -0.20212881 -0.47378505\n",
            "  -0.87137393]]\n",
            "0      1\n",
            "1      0\n",
            "2      1\n",
            "3      0\n",
            "4      1\n",
            "      ..\n",
            "763    0\n",
            "764    0\n",
            "765    0\n",
            "766    1\n",
            "767    0\n",
            "Name: Outcome, Length: 768, dtype: int64\n",
            "(768, 8) (614, 8) (154, 8)\n"
          ]
        }
      ],
      "source": [
        "X = standardized_data\n",
        "print(X)\n",
        "print(Y)\n",
        "\n",
        "# Train Test Split\n",
        "X_train, X_test, Y_train, Y_test = train_test_split(X, Y, test_size=0.2, stratify=Y, random_state=2)\n",
        "print(X.shape, X_train.shape, X_test.shape)"
      ]
    },
    {
      "cell_type": "code",
      "execution_count": null,
      "metadata": {
        "colab": {
          "base_uri": "https://localhost:8080/"
        },
        "id": "fXsFzloEVImM",
        "outputId": "d5fa70a6-d7a7-4a5e-fb3d-912f1f5c31ba"
      },
      "outputs": [
        {
          "name": "stdout",
          "output_type": "stream",
          "text": [
            "SVM Accuracy on training data:  0.7866449511400652\n",
            "SVM Accuracy on test data:  0.7727272727272727\n"
          ]
        }
      ],
      "source": [
        "# Initialize and train the SVM model\n",
        "classifier = svm.SVC(kernel='linear')\n",
        "classifier.fit(X_train, Y_train)\n",
        "\n",
        "# Model Evaluation (SVM)\n",
        "# Accuracy on training data\n",
        "X_train_prediction = classifier.predict(X_train)\n",
        "training_data_accuracy = accuracy_score(X_train_prediction, Y_train)\n",
        "print('SVM Accuracy on training data: ', training_data_accuracy)\n",
        "\n",
        "# Accuracy on test data\n",
        "X_test_prediction = classifier.predict(X_test)\n",
        "test_data_accuracy = accuracy_score(X_test_prediction, Y_test)\n",
        "print('SVM Accuracy on test data: ', test_data_accuracy)"
      ]
    },
    {
      "cell_type": "markdown",
      "metadata": {
        "id": "cZTva5Z5VLJw"
      },
      "source": [
        "**Training and Evaluating Random Forest Classifier**"
      ]
    },
    {
      "cell_type": "code",
      "execution_count": null,
      "metadata": {
        "colab": {
          "base_uri": "https://localhost:8080/"
        },
        "id": "N8ME2f8YVNjD",
        "outputId": "7cda8ad2-4b2d-436d-e16d-4ce1d161ef0f"
      },
      "outputs": [
        {
          "name": "stdout",
          "output_type": "stream",
          "text": [
            "Random Forest Accuracy on training data:  1.0\n",
            "Random Forest Accuracy on test data:  0.7272727272727273\n"
          ]
        }
      ],
      "source": [
        "# Initialize and train the Random Forest model\n",
        "rf_classifier = RandomForestClassifier(n_estimators=100, random_state=2)\n",
        "rf_classifier.fit(X_train, Y_train)\n",
        "\n",
        "# Model Evaluation (Random Forest)\n",
        "# Accuracy on training data\n",
        "X_train_rf_prediction = rf_classifier.predict(X_train)\n",
        "training_data_rf_accuracy = accuracy_score(X_train_rf_prediction, Y_train)\n",
        "print('Random Forest Accuracy on training data: ', training_data_rf_accuracy)\n",
        "\n",
        "# Accuracy on test data\n",
        "X_test_rf_prediction = rf_classifier.predict(X_test)\n",
        "test_data_rf_accuracy = accuracy_score(X_test_rf_prediction, Y_test)\n",
        "print('Random Forest Accuracy on test data: ', test_data_rf_accuracy)"
      ]
    },
    {
      "cell_type": "markdown",
      "metadata": {
        "id": "40IqUjNXVPvz"
      },
      "source": [
        "**Training and Evaluating Logistic Regression**"
      ]
    },
    {
      "cell_type": "code",
      "execution_count": null,
      "metadata": {
        "colab": {
          "base_uri": "https://localhost:8080/"
        },
        "id": "nTBIZ2ZCVSUl",
        "outputId": "aa071944-4a60-43ec-853f-ba041f05736e"
      },
      "outputs": [
        {
          "name": "stdout",
          "output_type": "stream",
          "text": [
            "Logistic Regression Accuracy on training data:  0.7850162866449512\n",
            "Logistic Regression Accuracy on test data:  0.7597402597402597\n"
          ]
        }
      ],
      "source": [
        "# Initialize and train the Logistic Regression model\n",
        "lr_classifier = LogisticRegression(max_iter=1000)\n",
        "lr_classifier.fit(X_train, Y_train)\n",
        "\n",
        "# Model Evaluation (Logistic Regression)\n",
        "# Accuracy on training data\n",
        "X_train_lr_prediction = lr_classifier.predict(X_train)\n",
        "training_data_lr_accuracy = accuracy_score(X_train_lr_prediction, Y_train)\n",
        "print('Logistic Regression Accuracy on training data: ', training_data_lr_accuracy)\n",
        "\n",
        "# Accuracy on test data\n",
        "X_test_lr_prediction = lr_classifier.predict(X_test)\n",
        "test_data_lr_accuracy = accuracy_score(X_test_lr_prediction, Y_test)\n",
        "print('Logistic Regression Accuracy on test data: ', test_data_lr_accuracy)"
      ]
    },
    {
      "cell_type": "markdown",
      "metadata": {
        "id": "Hy1I-esJVUyv"
      },
      "source": [
        "Training and Evaluating CatBoost Classifier"
      ]
    },
    {
      "cell_type": "markdown",
      "metadata": {
        "id": "R9qQzuvPVZSa"
      },
      "source": [
        "Comparing Model Results"
      ]
    },
    {
      "cell_type": "code",
      "execution_count": null,
      "metadata": {
        "colab": {
          "base_uri": "https://localhost:8080/"
        },
        "id": "e3lL9KzQVbzH",
        "outputId": "0629c20f-9308-4182-929e-70f725ec0940"
      },
      "outputs": [
        {
          "name": "stdout",
          "output_type": "stream",
          "text": [
            "SVM Test Accuracy: 0.7727272727272727\n",
            "Random Forest Test Accuracy: 0.7272727272727273\n",
            "Logistic Regression Test Accuracy: 0.7597402597402597\n"
          ]
        }
      ],
      "source": [
        "print('SVM Test Accuracy:', test_data_accuracy)\n",
        "print('Random Forest Test Accuracy:', test_data_rf_accuracy)\n",
        "print('Logistic Regression Test Accuracy:', test_data_lr_accuracy)"
      ]
    },
    {
      "cell_type": "markdown",
      "metadata": {
        "id": "PJ-89O_DVeU0"
      },
      "source": [
        "**Making a Predictive System**\n",
        "- This is an example using CatBoost for prediction. You can replace cat_classifier with any model (classifier, rf_classifier, or lr_classifier)\n",
        "- for example, the input data (1, 85, 66, 29, 0, 26.6, 0.351, 31) represents the following features:\n",
        "\n",
        "Pregnancies: 1\n",
        "\n",
        "Glucose: 85\n",
        "\n",
        "BloodPressure: 66\n",
        "\n",
        "SkinThickness: 29\n",
        "\n",
        "Insulin: 0\n",
        "\n",
        "BMI: 26.6\n",
        "\n",
        "DiabetesPedigreeFunction: 0.351\n",
        "\n",
        "Age: 31"
      ]
    },
    {
      "cell_type": "markdown",
      "metadata": {
        "id": "DsflwFCy6RNG"
      },
      "source": [
        "**Prediction of Non-diabetic person using Random Forest**"
      ]
    },
    {
      "cell_type": "code",
      "execution_count": null,
      "metadata": {
        "colab": {
          "base_uri": "https://localhost:8080/"
        },
        "id": "A5nyV2ZEWmaq",
        "outputId": "d85dce11-3c82-4b8f-e233-843f5f393ac1"
      },
      "outputs": [
        {
          "name": "stdout",
          "output_type": "stream",
          "text": [
            "[0]\n",
            "The person is not diabetic\n"
          ]
        },
        {
          "name": "stderr",
          "output_type": "stream",
          "text": [
            "C:\\Users\\DELL\\AppData\\Local\\Packages\\PythonSoftwareFoundation.Python.3.11_qbz5n2kfra8p0\\LocalCache\\local-packages\\Python311\\site-packages\\sklearn\\base.py:493: UserWarning: X does not have valid feature names, but StandardScaler was fitted with feature names\n",
            "  warnings.warn(\n"
          ]
        }
      ],
      "source": [
        "# Example input for a non-diabetic person\n",
        "input_data = (1, 85, 66, 29, 0, 26.6, 0.351, 31)  # Non-diabetic person\n",
        "\n",
        "# Convert input data to numpy array\n",
        "input_data_as_numpy_array = np.asarray(input_data)\n",
        "\n",
        "# Reshape the array as we're predicting for one instance\n",
        "input_data_reshaped = input_data_as_numpy_array.reshape(1, -1)\n",
        "\n",
        "# Standardize the input data\n",
        "std_data = scaler.transform(input_data_reshaped)\n",
        "\n",
        "# Predict using one of the trained models (e.g., Random Forest)\n",
        "prediction = rf_classifier.predict(std_data)\n",
        "print(prediction)\n",
        "\n",
        "if prediction[0] == 0:\n",
        "    print('The person is not diabetic')\n",
        "else:\n",
        "    print('The person is diabetic')"
      ]
    },
    {
      "cell_type": "markdown",
      "metadata": {
        "id": "XWo6owFN6imy"
      },
      "source": [
        "**Prediction of Non-diabetic person using SVM**"
      ]
    },
    {
      "cell_type": "code",
      "execution_count": null,
      "metadata": {
        "colab": {
          "base_uri": "https://localhost:8080/"
        },
        "id": "UCWFXOqH5w1z",
        "outputId": "743b157f-e6d7-4ba7-9def-b362db875b6b"
      },
      "outputs": [
        {
          "name": "stdout",
          "output_type": "stream",
          "text": [
            "[0]\n",
            "The person is not diabetic\n"
          ]
        },
        {
          "name": "stderr",
          "output_type": "stream",
          "text": [
            "C:\\Users\\DELL\\AppData\\Local\\Packages\\PythonSoftwareFoundation.Python.3.11_qbz5n2kfra8p0\\LocalCache\\local-packages\\Python311\\site-packages\\sklearn\\base.py:493: UserWarning: X does not have valid feature names, but StandardScaler was fitted with feature names\n",
            "  warnings.warn(\n"
          ]
        }
      ],
      "source": [
        "# Example input for a non-diabetic person\n",
        "input_data = (1, 85, 66, 29, 0, 26.6, 0.351, 31)  # Non-diabetic person\n",
        "\n",
        "# Convert input data to numpy array\n",
        "input_data_as_numpy_array = np.asarray(input_data)\n",
        "\n",
        "# Reshape the array as we're predicting for one instance\n",
        "input_data_reshaped = input_data_as_numpy_array.reshape(1, -1)\n",
        "\n",
        "# Standardize the input data\n",
        "std_data = scaler.transform(input_data_reshaped)\n",
        "\n",
        "# Predict using one of the trained models (e.g., SVM)\n",
        "prediction = classifier.predict(std_data)\n",
        "print(prediction)\n",
        "\n",
        "if prediction[0] == 0:\n",
        "    print('The person is not diabetic')\n",
        "else:\n",
        "    print('The person is diabetic')"
      ]
    },
    {
      "cell_type": "markdown",
      "metadata": {
        "id": "qMDzz3yb6_sm"
      },
      "source": [
        "**Prediction of Non-diabetic person using Logistic Regresssion**"
      ]
    },
    {
      "cell_type": "code",
      "execution_count": null,
      "metadata": {
        "colab": {
          "base_uri": "https://localhost:8080/"
        },
        "id": "iQktxxWg6zdJ",
        "outputId": "2b69699c-7446-4fda-f527-2d92175cea98"
      },
      "outputs": [
        {
          "name": "stdout",
          "output_type": "stream",
          "text": [
            "[0]\n",
            "The person is not diabetic\n"
          ]
        },
        {
          "name": "stderr",
          "output_type": "stream",
          "text": [
            "C:\\Users\\DELL\\AppData\\Local\\Packages\\PythonSoftwareFoundation.Python.3.11_qbz5n2kfra8p0\\LocalCache\\local-packages\\Python311\\site-packages\\sklearn\\base.py:493: UserWarning: X does not have valid feature names, but StandardScaler was fitted with feature names\n",
            "  warnings.warn(\n"
          ]
        }
      ],
      "source": [
        "# Example input for a non-diabetic person\n",
        "input_data = (1, 85, 66, 29, 0, 26.6, 0.351, 31)  # Non-diabetic person\n",
        "\n",
        "# Convert input data to numpy array\n",
        "input_data_as_numpy_array = np.asarray(input_data)\n",
        "\n",
        "# Reshape the array as we're predicting for one instance\n",
        "input_data_reshaped = input_data_as_numpy_array.reshape(1, -1)\n",
        "\n",
        "# Standardize the input data\n",
        "std_data = scaler.transform(input_data_reshaped)\n",
        "\n",
        "# Predict using the trained Logistic Regression model\n",
        "prediction = lr_classifier.predict(std_data)\n",
        "print(prediction)\n",
        "\n",
        "if prediction[0] == 0:\n",
        "    print('The person is not diabetic')\n",
        "else:\n",
        "    print('The person is diabetic')"
      ]
    },
    {
      "cell_type": "code",
      "execution_count": null,
      "metadata": {
        "colab": {
          "base_uri": "https://localhost:8080/",
          "height": 564
        },
        "id": "4KGTKTTR72w_",
        "outputId": "4487a05a-dcf1-4649-90ef-6eda7b9b4b5a"
      },
      "outputs": [
        {
          "data": {
            "image/png": "[encoded data removed]",
            "text/plain": [
              "<Figure size 1000x600 with 1 Axes>"
            ]
          },
          "metadata": {},
          "output_type": "display_data"
        }
      ],
      "source": [
        "# Importing Matplotlib for visualization\n",
        "import matplotlib.pyplot as plt\n",
        "import numpy as np\n",
        "\n",
        "# Accuracy values for each model on training and test data\n",
        "model_names = ['SVM', 'Random Forest', 'Logistic Regression']\n",
        "\n",
        "# Accuracy on training data for all models\n",
        "training_accuracies = [training_data_accuracy, training_data_rf_accuracy, training_data_lr_accuracy]\n",
        "\n",
        "# Accuracy on test data for all models\n",
        "test_accuracies = [test_data_accuracy, test_data_rf_accuracy, test_data_lr_accuracy]\n",
        "\n",
        "# Number of models (used for positioning bars)\n",
        "n_models = np.arange(len(model_names))\n",
        "\n",
        "# Width of bars\n",
        "bar_width = 0.35\n",
        "\n",
        "# Plotting the accuracy comparison\n",
        "plt.figure(figsize=(10, 6))\n",
        "\n",
        "# Creating bars for training accuracy\n",
        "bars1 = plt.bar(n_models - bar_width/2, training_accuracies, width=bar_width, color='lightblue', label='Training Accuracy')\n",
        "\n",
        "# Creating bars for test accuracy\n",
        "bars2 = plt.bar(n_models + bar_width/2, test_accuracies, width=bar_width, color='lightgreen', label='Test Accuracy')\n",
        "\n",
        "# Adding titles and labels\n",
        "plt.title('Model Comparison: Training vs Test Accuracy')\n",
        "plt.xlabel('Models')\n",
        "plt.ylabel('Accuracy Score')\n",
        "plt.xticks(n_models, model_names)  # Add model names to x-axis\n",
        "plt.ylim(0, 1)  # Limiting y-axis to [0,1] as accuracy is a percentage\n",
        "\n",
        "# Adding data labels on the bars\n",
        "for bar in bars1:\n",
        "    plt.text(bar.get_x() + bar.get_width()/2, bar.get_height() - 0.05,\n",
        "             f'{bar.get_height():.2f}', ha='center', va='bottom')\n",
        "for bar in bars2:\n",
        "    plt.text(bar.get_x() + bar.get_width()/2, bar.get_height() - 0.05,\n",
        "             f'{bar.get_height():.2f}', ha='center', va='bottom')\n",
        "\n",
        "# Display the legend\n",
        "plt.legend()\n",
        "\n",
        "# Display the chart\n",
        "plt.show()"
      ]
    },
    {
      "cell_type": "markdown",
      "metadata": {
        "id": "DAu_c98I-HWZ"
      },
      "source": [
        "**Prediction of Diabetic person using SVM**"
      ]
    },
    {
      "cell_type": "code",
      "execution_count": null,
      "metadata": {
        "colab": {
          "base_uri": "https://localhost:8080/"
        },
        "id": "J6lnwitGVn8n",
        "outputId": "6eb5e574-c1d6-4d1f-ea93-104aaf19b1c9"
      },
      "outputs": [
        {
          "name": "stdout",
          "output_type": "stream",
          "text": [
            "[1]\n",
            "The person is diabetic\n"
          ]
        },
        {
          "name": "stderr",
          "output_type": "stream",
          "text": [
            "C:\\Users\\DELL\\AppData\\Local\\Packages\\PythonSoftwareFoundation.Python.3.11_qbz5n2kfra8p0\\LocalCache\\local-packages\\Python311\\site-packages\\sklearn\\base.py:493: UserWarning: X does not have valid feature names, but StandardScaler was fitted with feature names\n",
            "  warnings.warn(\n"
          ]
        }
      ],
      "source": [
        "input_data = (5, 166, 72, 19, 175, 25.8, 0.587, 51)\n",
        "\n",
        "# Convert input data to numpy array\n",
        "input_data_as_numpy_array = np.asarray(input_data)\n",
        "\n",
        "# Reshape the array as we're predicting for one instance\n",
        "input_data_reshaped = input_data_as_numpy_array.reshape(1, -1)\n",
        "\n",
        "# Standardize the input data\n",
        "std_data = scaler.transform(input_data_reshaped)\n",
        "\n",
        "# Assuming 'classifier' is your trained model, predict using std_data through SVM\n",
        "prediction = classifier.predict(std_data)\n",
        "print(prediction)\n",
        "\n",
        "if prediction[0] == 0:\n",
        "    print('The person is not diabetic')\n",
        "else:\n",
        "    print('The person is diabetic')"
      ]
    },
    {
      "cell_type": "markdown",
      "metadata": {
        "id": "Jugc6OwB-fR-"
      },
      "source": [
        "**Prediction of Diabetic person using Logistic Regression**"
      ]
    },
    {
      "cell_type": "code",
      "execution_count": null,
      "metadata": {
        "colab": {
          "base_uri": "https://localhost:8080/"
        },
        "id": "JHt6y78d-MD5",
        "outputId": "56a01e2f-67c6-44c6-eff6-c5c62ad78262"
      },
      "outputs": [
        {
          "name": "stdout",
          "output_type": "stream",
          "text": [
            "[1]\n",
            "The person is diabetic\n"
          ]
        },
        {
          "name": "stderr",
          "output_type": "stream",
          "text": [
            "C:\\Users\\DELL\\AppData\\Local\\Packages\\PythonSoftwareFoundation.Python.3.11_qbz5n2kfra8p0\\LocalCache\\local-packages\\Python311\\site-packages\\sklearn\\base.py:493: UserWarning: X does not have valid feature names, but StandardScaler was fitted with feature names\n",
            "  warnings.warn(\n"
          ]
        }
      ],
      "source": [
        "# Example input for prediction\n",
        "input_data = (5, 166, 72, 19, 175, 25.8, 0.587, 51)\n",
        "\n",
        "# Convert input data to numpy array\n",
        "input_data_as_numpy_array = np.asarray(input_data)\n",
        "\n",
        "# Reshape the array as we're predicting for one instance\n",
        "input_data_reshaped = input_data_as_numpy_array.reshape(1, -1)\n",
        "\n",
        "# Standardize the input data\n",
        "std_data = scaler.transform(input_data_reshaped)\n",
        "\n",
        "# Predict using the trained Logistic Regression model\n",
        "lr_prediction = lr_classifier.predict(std_data)\n",
        "print(lr_prediction)\n",
        "\n",
        "if lr_prediction[0] == 0:\n",
        "    print('The person is not diabetic')\n",
        "else:\n",
        "    print('The person is diabetic')"
      ]
    },
    {
      "cell_type": "markdown",
      "metadata": {
        "id": "PPr55jLL-f_h"
      },
      "source": [
        "**Prediction of Diabetic person using Random Forest**"
      ]
    },
    {
      "cell_type": "code",
      "execution_count": null,
      "metadata": {
        "colab": {
          "base_uri": "https://localhost:8080/"
        },
        "id": "T6_tvF4X-BnM",
        "outputId": "26ec81c3-475e-4fdb-84fe-0188e55f5a9e"
      },
      "outputs": [
        {
          "name": "stdout",
          "output_type": "stream",
          "text": [
            "[1]\n",
            "The person is diabetic\n"
          ]
        },
        {
          "name": "stderr",
          "output_type": "stream",
          "text": [
            "C:\\Users\\DELL\\AppData\\Local\\Packages\\PythonSoftwareFoundation.Python.3.11_qbz5n2kfra8p0\\LocalCache\\local-packages\\Python311\\site-packages\\sklearn\\base.py:493: UserWarning: X does not have valid feature names, but StandardScaler was fitted with feature names\n",
            "  warnings.warn(\n"
          ]
        }
      ],
      "source": [
        "# Example input for prediction\n",
        "input_data = (5, 166, 72, 19, 175, 25.8, 0.587, 51)\n",
        "\n",
        "# Convert input data to numpy array\n",
        "input_data_as_numpy_array = np.asarray(input_data)\n",
        "\n",
        "# Reshape the array as we're predicting for one instance\n",
        "input_data_reshaped = input_data_as_numpy_array.reshape(1, -1)\n",
        "\n",
        "# Standardize the input data\n",
        "std_data = scaler.transform(input_data_reshaped)\n",
        "\n",
        "# Predict using the trained Random Forest model\n",
        "rf_prediction = rf_classifier.predict(std_data)\n",
        "print(rf_prediction)\n",
        "\n",
        "if rf_prediction[0] == 0:\n",
        "    print('The person is not diabetic')\n",
        "else:\n",
        "    print('The person is diabetic')"
      ]
    },
    {
      "cell_type": "code",
      "execution_count": null,
      "metadata": {
        "colab": {
          "base_uri": "https://localhost:8080/",
          "height": 564
        },
        "id": "gfnErIzzp6o_",
        "outputId": "6593dc44-d9f5-4e65-ffb0-956c9d5ac76e"
      },
      "outputs": [
        {
          "data": {
            "image/png": "[encoded data removed]",
            "text/plain": [
              "<Figure size 1000x600 with 1 Axes>"
            ]
          },
          "metadata": {},
          "output_type": "display_data"
        }
      ],
      "source": [
        "# Importing Matplotlib for visualization\n",
        "import matplotlib.pyplot as plt\n",
        "\n",
        "# Accuracy values obtained from previous model evaluations\n",
        "model_names = ['SVM', 'Random Forest', 'Logistic Regression',]\n",
        "accuracies = [test_data_accuracy, test_data_rf_accuracy, test_data_lr_accuracy]\n",
        "\n",
        "# Plotting the accuracy comparison\n",
        "plt.figure(figsize=(10, 6))\n",
        "bars = plt.barh(model_names, accuracies, color=['skyblue', 'lightgreen', 'orange'])\n",
        "\n",
        "# Adding titles and labels\n",
        "plt.title('Model Comparison: Prediction Accuracy')\n",
        "plt.xlabel('Accuracy Score')\n",
        "plt.xlim(0, 1)  # Limiting x-axis to [0,1] as accuracy is a percentage\n",
        "\n",
        "# Adding data labels on the bars\n",
        "for bar in bars:\n",
        "    plt.text(bar.get_width() + 0.01, bar.get_y() + bar.get_height()/2,\n",
        "             f'{bar.get_width():.2f}', va='center', ha='left')\n",
        "\n",
        "# Display the chart\n",
        "plt.show()\n"
      ]
    },
    {
      "cell_type": "code",
      "execution_count": null,
      "metadata": {
        "id": "ZH090psindGf"
      },
      "outputs": [],
      "source": []
    }
  ],
  "metadata": {
    "colab": {
      "provenance": []
    },
    "kernelspec": {
      "display_name": "Python 3",
      "name": "python3"
    },
    "language_info": {
      "codemirror_mode": {
        "name": "ipython",
        "version": 3
      },
      "file_extension": ".py",
      "mimetype": "text/x-python",
      "name": "python",
      "nbconvert_exporter": "python",
      "pygments_lexer": "ipython3",
      "version": "3.11.9"
    }
  },
  "nbformat": 4,
  "nbformat_minor": 0
}